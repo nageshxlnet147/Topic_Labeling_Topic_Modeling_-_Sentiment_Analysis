{
  "nbformat": 4,
  "nbformat_minor": 0,
  "metadata": {
    "colab": {
      "provenance": []
    },
    "kernelspec": {
      "name": "python3",
      "display_name": "Python 3"
    },
    "language_info": {
      "name": "python"
    }
  },
  "cells": [
    {
      "cell_type": "markdown",
      "metadata": {
        "id": "hKlD_lMobfre"
      },
      "source": [
        "# UN-Supervised learning"
      ]
    },
    {
      "cell_type": "markdown",
      "metadata": {
        "id": "4d0IQXxDO9X4"
      },
      "source": [
        "# NLTK PYTHON LIBRARY"
      ]
    },
    {
      "cell_type": "markdown",
      "metadata": {
        "id": "2FIslalJPM-q"
      },
      "source": [
        "TEXTBOLB SENTIMENT ANALIZER"
      ]
    },
    {
      "cell_type": "code",
      "execution_count": null,
      "metadata": {
        "id": "YPOHKJVAprT8"
      },
      "outputs": [],
      "source": [
        "from textblob import TextBlob\n",
        "import pandas as pd"
      ]
    },
    {
      "cell_type": "code",
      "execution_count": null,
      "metadata": {
        "colab": {
          "base_uri": "https://localhost:8080/"
        },
        "id": "C12xcvMRrV36",
        "outputId": "8ce6fef1-f112-4380-9a4c-825a046d42ae"
      },
      "outputs": [
        {
          "name": "stdout",
          "output_type": "stream",
          "text": [
            "       Unnamed: 0     Month                                     Date  \\\n",
            "0               0     April     Published:  06:04 BST, 16 April 2020   \n",
            "1               1     April     Published:  01:42 BST, 16 April 2020   \n",
            "2               2     April     Published:  01:41 BST, 16 April 2020   \n",
            "3               3     April     Published:  01:40 BST, 16 April 2020   \n",
            "4               4     April     Published:  01:40 BST, 16 April 2020   \n",
            "...           ...       ...                                      ...   \n",
            "23816       23816  November  Published:  22:58 GMT, 13 November 2020   \n",
            "23817       23817  November  Published:  22:57 GMT, 13 November 2020   \n",
            "23818       23818  November  Published:  22:53 GMT, 13 November 2020   \n",
            "23819       23819  November  Published:  22:52 GMT, 13 November 2020   \n",
            "23820       23820  November  Published:  22:33 GMT, 13 November 2020   \n",
            "\n",
            "                                                Headline  \\\n",
            "0      PICTURED: Coronavirus patient is wheeled out o...   \n",
            "1      Alan Jones ridicules a Chinese newspaper after...   \n",
            "2      Australia's leading anti-vaxxer says country '...   \n",
            "3      Crown Resorts stands down more than 11,000 the...   \n",
            "4      When to book flights after lockdown is lifted:...   \n",
            "...                                                  ...   \n",
            "23816  'Boy did we screw up! What a mess!' Billionair...   \n",
            "23817  Nurses are being let into care homes WITHOUT c...   \n",
            "23818  The anatomy of Maine's super spreader COVID-19...   \n",
            "23819  The care home that proves testing WORKS: How r...   \n",
            "23820  Oregon Governor issues strictest lockdown meas...   \n",
            "\n",
            "                                          Headline_Clean  \\\n",
            "0      pictured coronavirus patient wheel comfort inn...   \n",
            "1      alan jones ridicule chinese newspaper harshly ...   \n",
            "2      australia lead say country not need fearful co...   \n",
            "3      crown resorts stand employees company struggle...   \n",
            "4      book flight lockdown lift plane ticket much ch...   \n",
            "...                                                  ...   \n",
            "23816  screw mess billionaire charles koch say regret...   \n",
            "23817  nurses let care home without coronavirus test ...   \n",
            "23818  anatomy maine super spreader wed california co...   \n",
            "23819  care home prove test works residents one home ...   \n",
            "23820  oregon governor issue strictest lockdown measu...   \n",
            "\n",
            "                                                 No_HTML  \\\n",
            "0      PICTURED: Coronavirus patient is wheeled out o...   \n",
            "1      Alan Jones ridicules a Chinese newspaper after...   \n",
            "2      Australia's leading anti-vaxxer says country '...   \n",
            "3      Crown Resorts stands down more than 11,000 the...   \n",
            "4      When to book flights after lockdown is lifted:...   \n",
            "...                                                  ...   \n",
            "23816  'Boy did we screw up! What a mess!' Billionair...   \n",
            "23817  Nurses are being let into care homes WITHOUT c...   \n",
            "23818  The anatomy of Maine's super spreader COVID-19...   \n",
            "23819  The care home that proves testing WORKS: How r...   \n",
            "23820  Oregon Governor issues strictest lockdown meas...   \n",
            "\n",
            "                                             Token_Words  \\\n",
            "0      ['PICTURED', 'Coronavirus', 'patient', 'is', '...   \n",
            "1      ['Alan', 'Jones', 'ridicules', 'a', 'Chinese',...   \n",
            "2      ['Australia', 'leading', 'says', 'country', 'n...   \n",
            "3      ['Crown', 'Resorts', 'stands', 'down', 'more',...   \n",
            "4      ['When', 'to', 'book', 'flights', 'after', 'lo...   \n",
            "...                                                  ...   \n",
            "23816  ['did', 'we', 'screw', 'up', 'What', 'a', 'mes...   \n",
            "23817  ['Nurses', 'are', 'being', 'let', 'into', 'car...   \n",
            "23818  ['The', 'anatomy', 'of', 'Maine', 'super', 'sp...   \n",
            "23819  ['The', 'care', 'home', 'that', 'proves', 'tes...   \n",
            "23820  ['Oregon', 'Governor', 'issues', 'strictest', ...   \n",
            "\n",
            "                                             lemma_words  \\\n",
            "0      ['PICTURED', 'Coronavirus', 'patient', 'be', '...   \n",
            "1      ['Alan', 'Jones', 'ridicule', 'a', 'Chinese', ...   \n",
            "2      ['Australia', 'lead', 'say', 'country', 'not',...   \n",
            "3      ['Crown', 'Resorts', 'stand', 'down', 'more', ...   \n",
            "4      ['When', 'to', 'book', 'flight', 'after', 'loc...   \n",
            "...                                                  ...   \n",
            "23816  ['do', 'we', 'screw', 'up', 'What', 'a', 'mess...   \n",
            "23817  ['Nurses', 'be', 'be', 'let', 'into', 'care', ...   \n",
            "23818  ['The', 'anatomy', 'of', 'Maine', 'super', 'sp...   \n",
            "23819  ['The', 'care', 'home', 'that', 'prove', 'test...   \n",
            "23820  ['Oregon', 'Governor', 'issue', 'strictest', '...   \n",
            "\n",
            "                                            No_Stopwords  \\\n",
            "0      PICTURED Coronavirus patient wheel Comfort Inn...   \n",
            "1      Alan Jones ridicule Chinese newspaper harshly ...   \n",
            "2      Australia lead say country not need fearful co...   \n",
            "3      Crown Resorts stand themployees company strugg...   \n",
            "4      book flight lockdown lift Plane ticket MUCH ch...   \n",
            "...                                                  ...   \n",
            "23816  screw mess Billionaire Charles Koch say regret...   \n",
            "23817  Nurses let care home WITHOUT coronavirus test ...   \n",
            "23818  anatomy Maine super spreader wed California co...   \n",
            "23819  care home prove test WORKS residents one home ...   \n",
            "23820  Oregon Governor issue strictest lockdown measu...   \n",
            "\n",
            "                                              No_sp_char  \\\n",
            "0      PICTURED Coronavirus patient wheel Comfort Inn...   \n",
            "1      Alan Jones ridicule Chinese newspaper harshly ...   \n",
            "2      Australia lead say country not need fearful co...   \n",
            "3      Crown Resorts stand themployees company strugg...   \n",
            "4      book flight lockdown lift Plane ticket MUCH ch...   \n",
            "...                                                  ...   \n",
            "23816  screw mess Billionaire Charles Koch say regret...   \n",
            "23817  Nurses let care home WITHOUT coronavirus test ...   \n",
            "23818  anatomy Maine super spreader wed California co...   \n",
            "23819  care home prove test WORKS residents one home ...   \n",
            "23820  Oregon Governor issue strictest lockdown measu...   \n",
            "\n",
            "                                             No_Accented  \\\n",
            "0      PICTURED Coronavirus patient wheel Comfort Inn...   \n",
            "1      Alan Jones ridicule Chinese newspaper harshly ...   \n",
            "2      Australia lead say country not need fearful co...   \n",
            "3      Crown Resorts stand themployees company strugg...   \n",
            "4      book flight lockdown lift Plane ticket MUCH ch...   \n",
            "...                                                  ...   \n",
            "23816  screw mess Billionaire Charles Koch say regret...   \n",
            "23817  Nurses let care home WITHOUT coronavirus test ...   \n",
            "23818  anatomy Maine super spreader wed California co...   \n",
            "23819  care home prove test WORKS residents one home ...   \n",
            "23820  Oregon Governor issue strictest lockdown measu...   \n",
            "\n",
            "                                             Lower_words text_blob_sentiment  \n",
            "0      pictured coronavirus patient wheel comfort inn...                   1  \n",
            "1      alan jones ridicule chinese newspaper harshly ...                   0  \n",
            "2      australia lead say country not need fearful co...                   0  \n",
            "3      crown resorts stand themployees company strugg...                   0  \n",
            "4      book flight lockdown lift plane ticket much ch...                   1  \n",
            "...                                                  ...                 ...  \n",
            "23816  screw mess billionaire charles koch say regret...                   0  \n",
            "23817  nurses let care home without coronavirus test ...                   0  \n",
            "23818  anatomy maine super spreader wed california co...                   1  \n",
            "23819  care home prove test works residents one home ...                   1  \n",
            "23820  oregon governor issue strictest lockdown measu...                   0  \n",
            "\n",
            "[23821 rows x 13 columns]\n"
          ]
        }
      ],
      "source": [
        "from textblob import TextBlob\n",
        "!cp '/content/drive/MyDrive/News_Dataset/Data/Preprocessing_Headlines/Preprocessed_Headline_UK_h.csv' .\n",
        "India = pd.read_csv('Preprocessed_Headline_UK_h.csv')\n",
        "def get_text_blob_sentiment(sentiment):\n",
        "    polarity = TextBlob(sentiment).sentiment.polarity\n",
        "    # The polarity score is a float within the range [-1.0, 1.0]. \n",
        "    textblob_sentiment = None\n",
        "    if (polarity > 0):\n",
        "        textblob_sentiment = '1'\n",
        "    elif (polarity <= 0):\n",
        "        textblob_sentiment = '0'\n",
        "    return textblob_sentiment\n",
        "India['text_blob_sentiment'] = India.apply(lambda row: get_text_blob_sentiment(row['Headline_Clean']), axis=1)\n",
        "\n",
        "India.to_csv('UK_Headline_Original_Textblob.csv', index=False)\n",
        "\n",
        "print(India)"
      ]
    },
    {
      "cell_type": "code",
      "execution_count": null,
      "metadata": {
        "colab": {
          "base_uri": "https://localhost:8080/"
        },
        "id": "vuN1CyUDi-y1",
        "outputId": "b5b38ea0-6d5d-400f-8947-4a08438c7406"
      },
      "outputs": [
        {
          "data": {
            "text/plain": [
              "0    14253\n",
              "1     9568\n",
              "Name: text_blob_sentiment, dtype: int64"
            ]
          },
          "execution_count": 11,
          "metadata": {},
          "output_type": "execute_result"
        }
      ],
      "source": [
        "India['text_blob_sentiment'].value_counts()"
      ]
    },
    {
      "cell_type": "code",
      "execution_count": null,
      "metadata": {
        "id": "HfGX-oPXMQ8t"
      },
      "outputs": [],
      "source": []
    },
    {
      "cell_type": "markdown",
      "metadata": {
        "id": "Gxj4NRfJTk5H"
      },
      "source": [
        "# SUPERVISED LEARNING "
      ]
    },
    {
      "cell_type": "code",
      "execution_count": null,
      "metadata": {
        "colab": {
          "base_uri": "https://localhost:8080/"
        },
        "id": "Q1I2-a1H54G-",
        "outputId": "874cd220-b1fc-4553-e062-eca49c3a8179"
      },
      "outputs": [
        {
          "name": "stdout",
          "output_type": "stream",
          "text": [
            "--2022-10-13 05:56:58--  https://raw.githubusercontent.com/Aisha123ice/Suven-Sentiment-Project/main/text_normalizer.py\n",
            "Resolving raw.githubusercontent.com (raw.githubusercontent.com)... 185.199.108.133, 185.199.109.133, 185.199.110.133, ...\n",
            "Connecting to raw.githubusercontent.com (raw.githubusercontent.com)|185.199.108.133|:443... connected.\n",
            "HTTP request sent, awaiting response... 200 OK\n",
            "Length: 3866 (3.8K) [text/plain]\n",
            "Saving to: ‘text_normalizer.py’\n",
            "\n",
            "text_normalizer.py  100%[===================>]   3.78K  --.-KB/s    in 0s      \n",
            "\n",
            "2022-10-13 05:56:58 (54.8 MB/s) - ‘text_normalizer.py’ saved [3866/3866]\n",
            "\n",
            "--2022-10-13 05:56:58--  https://raw.githubusercontent.com/Aisha123ice/Suven-Sentiment-Project/main/contractions.py\n",
            "Resolving raw.githubusercontent.com (raw.githubusercontent.com)... 185.199.108.133, 185.199.109.133, 185.199.110.133, ...\n",
            "Connecting to raw.githubusercontent.com (raw.githubusercontent.com)|185.199.108.133|:443... connected.\n",
            "HTTP request sent, awaiting response... 200 OK\n",
            "Length: 3101 (3.0K) [text/plain]\n",
            "Saving to: ‘contractions.py’\n",
            "\n",
            "contractions.py     100%[===================>]   3.03K  --.-KB/s    in 0s      \n",
            "\n",
            "2022-10-13 05:56:59 (46.5 MB/s) - ‘contractions.py’ saved [3101/3101]\n",
            "\n"
          ]
        }
      ],
      "source": [
        "# line 17 nlp = spacy.load('en_core_web_sm') in text_normalizer.py\n",
        "!wget \"https://raw.githubusercontent.com/Aisha123ice/Suven-Sentiment-Project/main/text_normalizer.py\"\n",
        "!wget \"https://raw.githubusercontent.com/Aisha123ice/Suven-Sentiment-Project/main/contractions.py\""
      ]
    },
    {
      "cell_type": "code",
      "execution_count": null,
      "metadata": {
        "id": "ZRsvB-iR_9Ah"
      },
      "outputs": [],
      "source": [
        "# !pip install spacy==1.0.1"
      ]
    },
    {
      "cell_type": "code",
      "execution_count": null,
      "metadata": {
        "id": "u1P2VH2I_2Uv"
      },
      "outputs": [],
      "source": [
        "# !python -m spacy info"
      ]
    },
    {
      "cell_type": "code",
      "execution_count": null,
      "metadata": {
        "id": "bVTrX4yW54cE"
      },
      "outputs": [],
      "source": [
        "import pandas as pd\n",
        "import numpy as np\n",
        "import nltk\n",
        "nltk.download('stopwords')\n",
        "# nltk.download('stopwords')\n",
        "import text_normalizer as tn\n",
        "np.set_printoptions(precision=2, linewidth=80)"
      ]
    },
    {
      "cell_type": "code",
      "execution_count": null,
      "metadata": {
        "colab": {
          "base_uri": "https://localhost:8080/",
          "height": 337
        },
        "id": "aoUMMSta54Xp",
        "outputId": "76299a2e-5d86-4811-c344-08d77156bc28"
      },
      "outputs": [
        {
          "data": {
            "text/html": [
              "\n",
              "  <div id=\"df-1f7d032f-02ce-4a86-8812-e5797c654704\">\n",
              "    <div class=\"colab-df-container\">\n",
              "      <div>\n",
              "<style scoped>\n",
              "    .dataframe tbody tr th:only-of-type {\n",
              "        vertical-align: middle;\n",
              "    }\n",
              "\n",
              "    .dataframe tbody tr th {\n",
              "        vertical-align: top;\n",
              "    }\n",
              "\n",
              "    .dataframe thead th {\n",
              "        text-align: right;\n",
              "    }\n",
              "</style>\n",
              "<table border=\"1\" class=\"dataframe\">\n",
              "  <thead>\n",
              "    <tr style=\"text-align: right;\">\n",
              "      <th></th>\n",
              "      <th>Month</th>\n",
              "      <th>Date</th>\n",
              "      <th>Headline_Original</th>\n",
              "      <th>Sentiment</th>\n",
              "      <th>Headline_Clean</th>\n",
              "    </tr>\n",
              "  </thead>\n",
              "  <tbody>\n",
              "    <tr>\n",
              "      <th>0</th>\n",
              "      <td>April</td>\n",
              "      <td>Updated: Apr 17, 2020 15:28 IST</td>\n",
              "      <td>Rs 500 notes lay on Delhi street, no one touch...</td>\n",
              "      <td>0</td>\n",
              "      <td>rs note lay delhi street no one touch due coro...</td>\n",
              "    </tr>\n",
              "    <tr>\n",
              "      <th>1</th>\n",
              "      <td>April</td>\n",
              "      <td>Updated: Apr 17, 2020 14:19 IST</td>\n",
              "      <td>Charu Asopa on trolls attacking her over pics ...</td>\n",
              "      <td>0</td>\n",
              "      <td>charu asopa troll attack pics husband keep thi...</td>\n",
              "    </tr>\n",
              "    <tr>\n",
              "      <th>2</th>\n",
              "      <td>April</td>\n",
              "      <td>Updated: Apr 17, 2020 13:54 IST</td>\n",
              "      <td>People abandoning their pets are cruel and ign...</td>\n",
              "      <td>0</td>\n",
              "      <td>people abandon pet cruel ignorant richa</td>\n",
              "    </tr>\n",
              "    <tr>\n",
              "      <th>3</th>\n",
              "      <td>April</td>\n",
              "      <td>Updated: Apr 17, 2020 12:42 IST</td>\n",
              "      <td>Indian women's hockey team to raise funds for ...</td>\n",
              "      <td>0</td>\n",
              "      <td>indian women hockey team raise fund poor affec...</td>\n",
              "    </tr>\n",
              "    <tr>\n",
              "      <th>4</th>\n",
              "      <td>April</td>\n",
              "      <td>Updated: Apr 17, 2020 12:42 IST</td>\n",
              "      <td>Real estate sector faces serious setback due t...</td>\n",
              "      <td>0</td>\n",
              "      <td>real estate sector face serious setback due re...</td>\n",
              "    </tr>\n",
              "  </tbody>\n",
              "</table>\n",
              "</div>\n",
              "      <button class=\"colab-df-convert\" onclick=\"convertToInteractive('df-1f7d032f-02ce-4a86-8812-e5797c654704')\"\n",
              "              title=\"Convert this dataframe to an interactive table.\"\n",
              "              style=\"display:none;\">\n",
              "        \n",
              "  <svg xmlns=\"http://www.w3.org/2000/svg\" height=\"24px\"viewBox=\"0 0 24 24\"\n",
              "       width=\"24px\">\n",
              "    <path d=\"M0 0h24v24H0V0z\" fill=\"none\"/>\n",
              "    <path d=\"M18.56 5.44l.94 2.06.94-2.06 2.06-.94-2.06-.94-.94-2.06-.94 2.06-2.06.94zm-11 1L8.5 8.5l.94-2.06 2.06-.94-2.06-.94L8.5 2.5l-.94 2.06-2.06.94zm10 10l.94 2.06.94-2.06 2.06-.94-2.06-.94-.94-2.06-.94 2.06-2.06.94z\"/><path d=\"M17.41 7.96l-1.37-1.37c-.4-.4-.92-.59-1.43-.59-.52 0-1.04.2-1.43.59L10.3 9.45l-7.72 7.72c-.78.78-.78 2.05 0 2.83L4 21.41c.39.39.9.59 1.41.59.51 0 1.02-.2 1.41-.59l7.78-7.78 2.81-2.81c.8-.78.8-2.07 0-2.86zM5.41 20L4 18.59l7.72-7.72 1.47 1.35L5.41 20z\"/>\n",
              "  </svg>\n",
              "      </button>\n",
              "      \n",
              "  <style>\n",
              "    .colab-df-container {\n",
              "      display:flex;\n",
              "      flex-wrap:wrap;\n",
              "      gap: 12px;\n",
              "    }\n",
              "\n",
              "    .colab-df-convert {\n",
              "      background-color: #E8F0FE;\n",
              "      border: none;\n",
              "      border-radius: 50%;\n",
              "      cursor: pointer;\n",
              "      display: none;\n",
              "      fill: #1967D2;\n",
              "      height: 32px;\n",
              "      padding: 0 0 0 0;\n",
              "      width: 32px;\n",
              "    }\n",
              "\n",
              "    .colab-df-convert:hover {\n",
              "      background-color: #E2EBFA;\n",
              "      box-shadow: 0px 1px 2px rgba(60, 64, 67, 0.3), 0px 1px 3px 1px rgba(60, 64, 67, 0.15);\n",
              "      fill: #174EA6;\n",
              "    }\n",
              "\n",
              "    [theme=dark] .colab-df-convert {\n",
              "      background-color: #3B4455;\n",
              "      fill: #D2E3FC;\n",
              "    }\n",
              "\n",
              "    [theme=dark] .colab-df-convert:hover {\n",
              "      background-color: #434B5C;\n",
              "      box-shadow: 0px 1px 3px 1px rgba(0, 0, 0, 0.15);\n",
              "      filter: drop-shadow(0px 1px 2px rgba(0, 0, 0, 0.3));\n",
              "      fill: #FFFFFF;\n",
              "    }\n",
              "  </style>\n",
              "\n",
              "      <script>\n",
              "        const buttonEl =\n",
              "          document.querySelector('#df-1f7d032f-02ce-4a86-8812-e5797c654704 button.colab-df-convert');\n",
              "        buttonEl.style.display =\n",
              "          google.colab.kernel.accessAllowed ? 'block' : 'none';\n",
              "\n",
              "        async function convertToInteractive(key) {\n",
              "          const element = document.querySelector('#df-1f7d032f-02ce-4a86-8812-e5797c654704');\n",
              "          const dataTable =\n",
              "            await google.colab.kernel.invokeFunction('convertToInteractive',\n",
              "                                                     [key], {});\n",
              "          if (!dataTable) return;\n",
              "\n",
              "          const docLinkHtml = 'Like what you see? Visit the ' +\n",
              "            '<a target=\"_blank\" href=https://colab.research.google.com/notebooks/data_table.ipynb>data table notebook</a>'\n",
              "            + ' to learn more about interactive tables.';\n",
              "          element.innerHTML = '';\n",
              "          dataTable['output_type'] = 'display_data';\n",
              "          await google.colab.output.renderOutput(dataTable, element);\n",
              "          const docLink = document.createElement('div');\n",
              "          docLink.innerHTML = docLinkHtml;\n",
              "          element.appendChild(docLink);\n",
              "        }\n",
              "      </script>\n",
              "    </div>\n",
              "  </div>\n",
              "  "
            ],
            "text/plain": [
              "   Month                             Date  \\\n",
              "0  April  Updated: Apr 17, 2020 15:28 IST   \n",
              "1  April  Updated: Apr 17, 2020 14:19 IST   \n",
              "2  April  Updated: Apr 17, 2020 13:54 IST   \n",
              "3  April  Updated: Apr 17, 2020 12:42 IST   \n",
              "4  April  Updated: Apr 17, 2020 12:42 IST   \n",
              "\n",
              "                                   Headline_Original  Sentiment  \\\n",
              "0  Rs 500 notes lay on Delhi street, no one touch...          0   \n",
              "1  Charu Asopa on trolls attacking her over pics ...          0   \n",
              "2  People abandoning their pets are cruel and ign...          0   \n",
              "3  Indian women's hockey team to raise funds for ...          0   \n",
              "4  Real estate sector faces serious setback due t...          0   \n",
              "\n",
              "                                      Headline_Clean  \n",
              "0  rs note lay delhi street no one touch due coro...  \n",
              "1  charu asopa troll attack pics husband keep thi...  \n",
              "2            people abandon pet cruel ignorant richa  \n",
              "3  indian women hockey team raise fund poor affec...  \n",
              "4  real estate sector face serious setback due re...  "
            ]
          },
          "execution_count": 96,
          "metadata": {},
          "output_type": "execute_result"
        }
      ],
      "source": [
        "dataset = pd.read_csv('/content/drive/MyDrive/Data/Sentiment Analysis/All_Label_Covid_Headlines.csv')\n",
        "\n",
        "# take a peek at the data\n",
        "dataset.head()"
      ]
    },
    {
      "cell_type": "code",
      "execution_count": null,
      "metadata": {
        "colab": {
          "base_uri": "https://localhost:8080/"
        },
        "id": "dTbPpHnT54Uk",
        "outputId": "a4319e0a-adfc-4aff-a145-6d1db17d25f4"
      },
      "outputs": [
        {
          "data": {
            "text/plain": [
              "(10727, 5)"
            ]
          },
          "execution_count": 97,
          "metadata": {},
          "output_type": "execute_result"
        }
      ],
      "source": [
        "dataset.shape"
      ]
    },
    {
      "cell_type": "code",
      "execution_count": null,
      "metadata": {
        "id": "4wrBMZKx3TtW"
      },
      "outputs": [],
      "source": [
        "new_dataset = pd.read_csv('/content/drive/MyDrive/News_Dataset/Data/Sentiment Analysis/Headline_UK.csv')\n",
        "test_headline = new_dataset['Headline_Clean']"
      ]
    },
    {
      "cell_type": "code",
      "execution_count": null,
      "metadata": {
        "colab": {
          "base_uri": "https://localhost:8080/"
        },
        "id": "gVfCbIcs7Lb9",
        "outputId": "6b7d7076-4c66-40bb-fa0a-7f43c60dfdac"
      },
      "outputs": [
        {
          "data": {
            "text/plain": [
              "0        pictured coronavirus patient wheel comfort inn...\n",
              "1        alan jones ridicule chinese newspaper harshly ...\n",
              "2        australia lead say country not need fearful co...\n",
              "3        crown resorts stand employees company struggle...\n",
              "4        book flight lockdown lift plane ticket much ch...\n",
              "                               ...                        \n",
              "23816    screw mess billionaire charles koch say regret...\n",
              "23817    nurses let care home without coronavirus test ...\n",
              "23818    anatomy maine super spreader wed california co...\n",
              "23819    care home prove test works residents one home ...\n",
              "23820    oregon governor issue strictest lockdown measu...\n",
              "Name: Headline_Clean, Length: 23821, dtype: object"
            ]
          },
          "execution_count": 8,
          "metadata": {},
          "output_type": "execute_result"
        }
      ],
      "source": [
        "test_headline"
      ]
    },
    {
      "cell_type": "code",
      "execution_count": null,
      "metadata": {
        "colab": {
          "base_uri": "https://localhost:8080/"
        },
        "id": "s_8pBoTt54Rr",
        "outputId": "f364fddc-73f8-4bf8-a677-4daba55c8bcf"
      },
      "outputs": [
        {
          "data": {
            "text/plain": [
              "Month                0\n",
              "Date                 0\n",
              "Headline_Original    0\n",
              "Sentiment            0\n",
              "Headline_Clean       0\n",
              "dtype: int64"
            ]
          },
          "execution_count": 98,
          "metadata": {},
          "output_type": "execute_result"
        }
      ],
      "source": [
        "# checking for null values\n",
        "dataset.isna().sum()"
      ]
    },
    {
      "cell_type": "code",
      "execution_count": null,
      "metadata": {
        "colab": {
          "base_uri": "https://localhost:8080/"
        },
        "id": "oBxLZZUt54O7",
        "outputId": "2016a759-567f-465f-9302-f0f3e11b48a4"
      },
      "outputs": [
        {
          "name": "stdout",
          "output_type": "stream",
          "text": [
            "<class 'pandas.core.frame.DataFrame'>\n",
            "RangeIndex: 10727 entries, 0 to 10726\n",
            "Data columns (total 5 columns):\n",
            " #   Column             Non-Null Count  Dtype \n",
            "---  ------             --------------  ----- \n",
            " 0   Month              10727 non-null  object\n",
            " 1   Date               10727 non-null  object\n",
            " 2   Headline_Original  10727 non-null  object\n",
            " 3   Sentiment          10727 non-null  int64 \n",
            " 4   Headline_Clean     10727 non-null  object\n",
            "dtypes: int64(1), object(4)\n",
            "memory usage: 419.1+ KB\n"
          ]
        }
      ],
      "source": [
        "# info of our dataset\n",
        "dataset.info()"
      ]
    },
    {
      "cell_type": "code",
      "execution_count": null,
      "metadata": {
        "id": "l3K5X2eQryD0"
      },
      "outputs": [],
      "source": [
        "dataset = dataset.sample(frac = 1)"
      ]
    },
    {
      "cell_type": "code",
      "execution_count": null,
      "metadata": {
        "colab": {
          "base_uri": "https://localhost:8080/",
          "height": 641
        },
        "id": "CKc6YoQar4X1",
        "outputId": "6776df23-4746-4e41-d6b4-abee72366015"
      },
      "outputs": [
        {
          "data": {
            "text/html": [
              "\n",
              "  <div id=\"df-79b82610-0114-4234-9820-e87260ae866e\">\n",
              "    <div class=\"colab-df-container\">\n",
              "      <div>\n",
              "<style scoped>\n",
              "    .dataframe tbody tr th:only-of-type {\n",
              "        vertical-align: middle;\n",
              "    }\n",
              "\n",
              "    .dataframe tbody tr th {\n",
              "        vertical-align: top;\n",
              "    }\n",
              "\n",
              "    .dataframe thead th {\n",
              "        text-align: right;\n",
              "    }\n",
              "</style>\n",
              "<table border=\"1\" class=\"dataframe\">\n",
              "  <thead>\n",
              "    <tr style=\"text-align: right;\">\n",
              "      <th></th>\n",
              "      <th>Month</th>\n",
              "      <th>Date</th>\n",
              "      <th>Headline_Original</th>\n",
              "      <th>Sentiment</th>\n",
              "      <th>Headline_Clean</th>\n",
              "    </tr>\n",
              "  </thead>\n",
              "  <tbody>\n",
              "    <tr>\n",
              "      <th>5047</th>\n",
              "      <td>August</td>\n",
              "      <td>Published:  18:05 BST, 18 August 2020</td>\n",
              "      <td>World is NOWHERE near reaching herd immunity a...</td>\n",
              "      <td>0</td>\n",
              "      <td>world nowhere near reach herd immunity coronav...</td>\n",
              "    </tr>\n",
              "    <tr>\n",
              "      <th>763</th>\n",
              "      <td>June</td>\n",
              "      <td>Updated: Jun 04, 2020 13:44 IST</td>\n",
              "      <td>West Bengal: Amid lack of transport options, C...</td>\n",
              "      <td>0</td>\n",
              "      <td>west bengal amid lack transport options cm mam...</td>\n",
              "    </tr>\n",
              "    <tr>\n",
              "      <th>5043</th>\n",
              "      <td>August</td>\n",
              "      <td>Published:  13:10 BST, 20 August 2020</td>\n",
              "      <td>Alarming photos of blood-stained bed sheets an...</td>\n",
              "      <td>0</td>\n",
              "      <td>alarming photos bed sheet use face mask inside...</td>\n",
              "    </tr>\n",
              "    <tr>\n",
              "      <th>7412</th>\n",
              "      <td>August</td>\n",
              "      <td>August 4, 2020</td>\n",
              "      <td>Baseball: Ino, Kamizato lead BayStars in win o...</td>\n",
              "      <td>1</td>\n",
              "      <td>baseball ino kamizato lead baystars win dragons</td>\n",
              "    </tr>\n",
              "    <tr>\n",
              "      <th>661</th>\n",
              "      <td>May</td>\n",
              "      <td>Updated: May 18, 2020 23:26 IST</td>\n",
              "      <td>Ashish Chowdhry on Covid-19 crisis: Our family...</td>\n",
              "      <td>0</td>\n",
              "      <td>ashish chowdhry crisis family victims terror a...</td>\n",
              "    </tr>\n",
              "    <tr>\n",
              "      <th>...</th>\n",
              "      <td>...</td>\n",
              "      <td>...</td>\n",
              "      <td>...</td>\n",
              "      <td>...</td>\n",
              "      <td>...</td>\n",
              "    </tr>\n",
              "    <tr>\n",
              "      <th>3207</th>\n",
              "      <td>July</td>\n",
              "      <td>Published:  20:42 BST, 12 July 2020</td>\n",
              "      <td>Wisconsin congressman Glenn Grothman, 65, is l...</td>\n",
              "      <td>0</td>\n",
              "      <td>wisconsin congressman glenn grothman leave lit...</td>\n",
              "    </tr>\n",
              "    <tr>\n",
              "      <th>5429</th>\n",
              "      <td>April</td>\n",
              "      <td>Updated: Apr 08, 2020 18:27 IST</td>\n",
              "      <td>Man Utd must be ready for return to ‘normality...</td>\n",
              "      <td>1</td>\n",
              "      <td>man utd must ready return normality say solskjaer</td>\n",
              "    </tr>\n",
              "    <tr>\n",
              "      <th>1709</th>\n",
              "      <td>June</td>\n",
              "      <td>Jun 20, 2020</td>\n",
              "      <td>Chinese vaccine may not be ready for sale unti...</td>\n",
              "      <td>0</td>\n",
              "      <td>chinese vaccine may not ready sale least</td>\n",
              "    </tr>\n",
              "    <tr>\n",
              "      <th>3083</th>\n",
              "      <td>August</td>\n",
              "      <td>Published:  18:24 BST, 26 August 2020</td>\n",
              "      <td>Gunman, 17, is charged with first degree inten...</td>\n",
              "      <td>0</td>\n",
              "      <td>gunman charge first degree intentional homicid...</td>\n",
              "    </tr>\n",
              "    <tr>\n",
              "      <th>9422</th>\n",
              "      <td>October</td>\n",
              "      <td>Published:  05:59 GMT, 26 October 2020</td>\n",
              "      <td>Harmless fun for kids or an irresponsible Covi...</td>\n",
              "      <td>1</td>\n",
              "      <td>harmless fun kid irresponsible covid risk deba...</td>\n",
              "    </tr>\n",
              "  </tbody>\n",
              "</table>\n",
              "<p>10727 rows × 5 columns</p>\n",
              "</div>\n",
              "      <button class=\"colab-df-convert\" onclick=\"convertToInteractive('df-79b82610-0114-4234-9820-e87260ae866e')\"\n",
              "              title=\"Convert this dataframe to an interactive table.\"\n",
              "              style=\"display:none;\">\n",
              "        \n",
              "  <svg xmlns=\"http://www.w3.org/2000/svg\" height=\"24px\"viewBox=\"0 0 24 24\"\n",
              "       width=\"24px\">\n",
              "    <path d=\"M0 0h24v24H0V0z\" fill=\"none\"/>\n",
              "    <path d=\"M18.56 5.44l.94 2.06.94-2.06 2.06-.94-2.06-.94-.94-2.06-.94 2.06-2.06.94zm-11 1L8.5 8.5l.94-2.06 2.06-.94-2.06-.94L8.5 2.5l-.94 2.06-2.06.94zm10 10l.94 2.06.94-2.06 2.06-.94-2.06-.94-.94-2.06-.94 2.06-2.06.94z\"/><path d=\"M17.41 7.96l-1.37-1.37c-.4-.4-.92-.59-1.43-.59-.52 0-1.04.2-1.43.59L10.3 9.45l-7.72 7.72c-.78.78-.78 2.05 0 2.83L4 21.41c.39.39.9.59 1.41.59.51 0 1.02-.2 1.41-.59l7.78-7.78 2.81-2.81c.8-.78.8-2.07 0-2.86zM5.41 20L4 18.59l7.72-7.72 1.47 1.35L5.41 20z\"/>\n",
              "  </svg>\n",
              "      </button>\n",
              "      \n",
              "  <style>\n",
              "    .colab-df-container {\n",
              "      display:flex;\n",
              "      flex-wrap:wrap;\n",
              "      gap: 12px;\n",
              "    }\n",
              "\n",
              "    .colab-df-convert {\n",
              "      background-color: #E8F0FE;\n",
              "      border: none;\n",
              "      border-radius: 50%;\n",
              "      cursor: pointer;\n",
              "      display: none;\n",
              "      fill: #1967D2;\n",
              "      height: 32px;\n",
              "      padding: 0 0 0 0;\n",
              "      width: 32px;\n",
              "    }\n",
              "\n",
              "    .colab-df-convert:hover {\n",
              "      background-color: #E2EBFA;\n",
              "      box-shadow: 0px 1px 2px rgba(60, 64, 67, 0.3), 0px 1px 3px 1px rgba(60, 64, 67, 0.15);\n",
              "      fill: #174EA6;\n",
              "    }\n",
              "\n",
              "    [theme=dark] .colab-df-convert {\n",
              "      background-color: #3B4455;\n",
              "      fill: #D2E3FC;\n",
              "    }\n",
              "\n",
              "    [theme=dark] .colab-df-convert:hover {\n",
              "      background-color: #434B5C;\n",
              "      box-shadow: 0px 1px 3px 1px rgba(0, 0, 0, 0.15);\n",
              "      filter: drop-shadow(0px 1px 2px rgba(0, 0, 0, 0.3));\n",
              "      fill: #FFFFFF;\n",
              "    }\n",
              "  </style>\n",
              "\n",
              "      <script>\n",
              "        const buttonEl =\n",
              "          document.querySelector('#df-79b82610-0114-4234-9820-e87260ae866e button.colab-df-convert');\n",
              "        buttonEl.style.display =\n",
              "          google.colab.kernel.accessAllowed ? 'block' : 'none';\n",
              "\n",
              "        async function convertToInteractive(key) {\n",
              "          const element = document.querySelector('#df-79b82610-0114-4234-9820-e87260ae866e');\n",
              "          const dataTable =\n",
              "            await google.colab.kernel.invokeFunction('convertToInteractive',\n",
              "                                                     [key], {});\n",
              "          if (!dataTable) return;\n",
              "\n",
              "          const docLinkHtml = 'Like what you see? Visit the ' +\n",
              "            '<a target=\"_blank\" href=https://colab.research.google.com/notebooks/data_table.ipynb>data table notebook</a>'\n",
              "            + ' to learn more about interactive tables.';\n",
              "          element.innerHTML = '';\n",
              "          dataTable['output_type'] = 'display_data';\n",
              "          await google.colab.output.renderOutput(dataTable, element);\n",
              "          const docLink = document.createElement('div');\n",
              "          docLink.innerHTML = docLinkHtml;\n",
              "          element.appendChild(docLink);\n",
              "        }\n",
              "      </script>\n",
              "    </div>\n",
              "  </div>\n",
              "  "
            ],
            "text/plain": [
              "        Month                                    Date  \\\n",
              "5047   August   Published:  18:05 BST, 18 August 2020   \n",
              "763      June         Updated: Jun 04, 2020 13:44 IST   \n",
              "5043   August   Published:  13:10 BST, 20 August 2020   \n",
              "7412   August                          August 4, 2020   \n",
              "661       May         Updated: May 18, 2020 23:26 IST   \n",
              "...       ...                                     ...   \n",
              "3207     July     Published:  20:42 BST, 12 July 2020   \n",
              "5429    April         Updated: Apr 08, 2020 18:27 IST   \n",
              "1709     June                            Jun 20, 2020   \n",
              "3083   August   Published:  18:24 BST, 26 August 2020   \n",
              "9422  October  Published:  05:59 GMT, 26 October 2020   \n",
              "\n",
              "                                      Headline_Original  Sentiment  \\\n",
              "5047  World is NOWHERE near reaching herd immunity a...          0   \n",
              "763   West Bengal: Amid lack of transport options, C...          0   \n",
              "5043  Alarming photos of blood-stained bed sheets an...          0   \n",
              "7412  Baseball: Ino, Kamizato lead BayStars in win o...          1   \n",
              "661   Ashish Chowdhry on Covid-19 crisis: Our family...          0   \n",
              "...                                                 ...        ...   \n",
              "3207  Wisconsin congressman Glenn Grothman, 65, is l...          0   \n",
              "5429  Man Utd must be ready for return to ‘normality...          1   \n",
              "1709  Chinese vaccine may not be ready for sale unti...          0   \n",
              "3083  Gunman, 17, is charged with first degree inten...          0   \n",
              "9422  Harmless fun for kids or an irresponsible Covi...          1   \n",
              "\n",
              "                                         Headline_Clean  \n",
              "5047  world nowhere near reach herd immunity coronav...  \n",
              "763   west bengal amid lack transport options cm mam...  \n",
              "5043  alarming photos bed sheet use face mask inside...  \n",
              "7412    baseball ino kamizato lead baystars win dragons  \n",
              "661   ashish chowdhry crisis family victims terror a...  \n",
              "...                                                 ...  \n",
              "3207  wisconsin congressman glenn grothman leave lit...  \n",
              "5429  man utd must ready return normality say solskjaer  \n",
              "1709           chinese vaccine may not ready sale least  \n",
              "3083  gunman charge first degree intentional homicid...  \n",
              "9422  harmless fun kid irresponsible covid risk deba...  \n",
              "\n",
              "[10727 rows x 5 columns]"
            ]
          },
          "execution_count": 101,
          "metadata": {},
          "output_type": "execute_result"
        }
      ],
      "source": [
        "dataset"
      ]
    },
    {
      "cell_type": "code",
      "execution_count": null,
      "metadata": {
        "colab": {
          "base_uri": "https://localhost:8080/",
          "height": 337
        },
        "id": "XcATeeUb54MT",
        "outputId": "96297a2b-032d-4a81-b7ad-9e22835d8d1d"
      },
      "outputs": [
        {
          "data": {
            "text/html": [
              "\n",
              "  <div id=\"df-921b404d-aeea-410f-ae22-0d55927e984c\">\n",
              "    <div class=\"colab-df-container\">\n",
              "      <div>\n",
              "<style scoped>\n",
              "    .dataframe tbody tr th:only-of-type {\n",
              "        vertical-align: middle;\n",
              "    }\n",
              "\n",
              "    .dataframe tbody tr th {\n",
              "        vertical-align: top;\n",
              "    }\n",
              "\n",
              "    .dataframe thead th {\n",
              "        text-align: right;\n",
              "    }\n",
              "</style>\n",
              "<table border=\"1\" class=\"dataframe\">\n",
              "  <thead>\n",
              "    <tr style=\"text-align: right;\">\n",
              "      <th></th>\n",
              "      <th>Month</th>\n",
              "      <th>Date</th>\n",
              "      <th>Headline_Original</th>\n",
              "      <th>Sentiment</th>\n",
              "      <th>Headline_Clean</th>\n",
              "    </tr>\n",
              "  </thead>\n",
              "  <tbody>\n",
              "    <tr>\n",
              "      <th>5047</th>\n",
              "      <td>August</td>\n",
              "      <td>Published:  18:05 BST, 18 August 2020</td>\n",
              "      <td>World is NOWHERE near reaching herd immunity a...</td>\n",
              "      <td>0</td>\n",
              "      <td>world nowhere near reach herd immunity coronav...</td>\n",
              "    </tr>\n",
              "    <tr>\n",
              "      <th>763</th>\n",
              "      <td>June</td>\n",
              "      <td>Updated: Jun 04, 2020 13:44 IST</td>\n",
              "      <td>West Bengal: Amid lack of transport options, C...</td>\n",
              "      <td>0</td>\n",
              "      <td>west bengal amid lack transport options cm mam...</td>\n",
              "    </tr>\n",
              "    <tr>\n",
              "      <th>5043</th>\n",
              "      <td>August</td>\n",
              "      <td>Published:  13:10 BST, 20 August 2020</td>\n",
              "      <td>Alarming photos of blood-stained bed sheets an...</td>\n",
              "      <td>0</td>\n",
              "      <td>alarming photos bed sheet use face mask inside...</td>\n",
              "    </tr>\n",
              "    <tr>\n",
              "      <th>7412</th>\n",
              "      <td>August</td>\n",
              "      <td>August 4, 2020</td>\n",
              "      <td>Baseball: Ino, Kamizato lead BayStars in win o...</td>\n",
              "      <td>1</td>\n",
              "      <td>baseball ino kamizato lead baystars win dragons</td>\n",
              "    </tr>\n",
              "    <tr>\n",
              "      <th>661</th>\n",
              "      <td>May</td>\n",
              "      <td>Updated: May 18, 2020 23:26 IST</td>\n",
              "      <td>Ashish Chowdhry on Covid-19 crisis: Our family...</td>\n",
              "      <td>0</td>\n",
              "      <td>ashish chowdhry crisis family victims terror a...</td>\n",
              "    </tr>\n",
              "  </tbody>\n",
              "</table>\n",
              "</div>\n",
              "      <button class=\"colab-df-convert\" onclick=\"convertToInteractive('df-921b404d-aeea-410f-ae22-0d55927e984c')\"\n",
              "              title=\"Convert this dataframe to an interactive table.\"\n",
              "              style=\"display:none;\">\n",
              "        \n",
              "  <svg xmlns=\"http://www.w3.org/2000/svg\" height=\"24px\"viewBox=\"0 0 24 24\"\n",
              "       width=\"24px\">\n",
              "    <path d=\"M0 0h24v24H0V0z\" fill=\"none\"/>\n",
              "    <path d=\"M18.56 5.44l.94 2.06.94-2.06 2.06-.94-2.06-.94-.94-2.06-.94 2.06-2.06.94zm-11 1L8.5 8.5l.94-2.06 2.06-.94-2.06-.94L8.5 2.5l-.94 2.06-2.06.94zm10 10l.94 2.06.94-2.06 2.06-.94-2.06-.94-.94-2.06-.94 2.06-2.06.94z\"/><path d=\"M17.41 7.96l-1.37-1.37c-.4-.4-.92-.59-1.43-.59-.52 0-1.04.2-1.43.59L10.3 9.45l-7.72 7.72c-.78.78-.78 2.05 0 2.83L4 21.41c.39.39.9.59 1.41.59.51 0 1.02-.2 1.41-.59l7.78-7.78 2.81-2.81c.8-.78.8-2.07 0-2.86zM5.41 20L4 18.59l7.72-7.72 1.47 1.35L5.41 20z\"/>\n",
              "  </svg>\n",
              "      </button>\n",
              "      \n",
              "  <style>\n",
              "    .colab-df-container {\n",
              "      display:flex;\n",
              "      flex-wrap:wrap;\n",
              "      gap: 12px;\n",
              "    }\n",
              "\n",
              "    .colab-df-convert {\n",
              "      background-color: #E8F0FE;\n",
              "      border: none;\n",
              "      border-radius: 50%;\n",
              "      cursor: pointer;\n",
              "      display: none;\n",
              "      fill: #1967D2;\n",
              "      height: 32px;\n",
              "      padding: 0 0 0 0;\n",
              "      width: 32px;\n",
              "    }\n",
              "\n",
              "    .colab-df-convert:hover {\n",
              "      background-color: #E2EBFA;\n",
              "      box-shadow: 0px 1px 2px rgba(60, 64, 67, 0.3), 0px 1px 3px 1px rgba(60, 64, 67, 0.15);\n",
              "      fill: #174EA6;\n",
              "    }\n",
              "\n",
              "    [theme=dark] .colab-df-convert {\n",
              "      background-color: #3B4455;\n",
              "      fill: #D2E3FC;\n",
              "    }\n",
              "\n",
              "    [theme=dark] .colab-df-convert:hover {\n",
              "      background-color: #434B5C;\n",
              "      box-shadow: 0px 1px 3px 1px rgba(0, 0, 0, 0.15);\n",
              "      filter: drop-shadow(0px 1px 2px rgba(0, 0, 0, 0.3));\n",
              "      fill: #FFFFFF;\n",
              "    }\n",
              "  </style>\n",
              "\n",
              "      <script>\n",
              "        const buttonEl =\n",
              "          document.querySelector('#df-921b404d-aeea-410f-ae22-0d55927e984c button.colab-df-convert');\n",
              "        buttonEl.style.display =\n",
              "          google.colab.kernel.accessAllowed ? 'block' : 'none';\n",
              "\n",
              "        async function convertToInteractive(key) {\n",
              "          const element = document.querySelector('#df-921b404d-aeea-410f-ae22-0d55927e984c');\n",
              "          const dataTable =\n",
              "            await google.colab.kernel.invokeFunction('convertToInteractive',\n",
              "                                                     [key], {});\n",
              "          if (!dataTable) return;\n",
              "\n",
              "          const docLinkHtml = 'Like what you see? Visit the ' +\n",
              "            '<a target=\"_blank\" href=https://colab.research.google.com/notebooks/data_table.ipynb>data table notebook</a>'\n",
              "            + ' to learn more about interactive tables.';\n",
              "          element.innerHTML = '';\n",
              "          dataTable['output_type'] = 'display_data';\n",
              "          await google.colab.output.renderOutput(dataTable, element);\n",
              "          const docLink = document.createElement('div');\n",
              "          docLink.innerHTML = docLinkHtml;\n",
              "          element.appendChild(docLink);\n",
              "        }\n",
              "      </script>\n",
              "    </div>\n",
              "  </div>\n",
              "  "
            ],
            "text/plain": [
              "       Month                                   Date  \\\n",
              "5047  August  Published:  18:05 BST, 18 August 2020   \n",
              "763     June        Updated: Jun 04, 2020 13:44 IST   \n",
              "5043  August  Published:  13:10 BST, 20 August 2020   \n",
              "7412  August                         August 4, 2020   \n",
              "661      May        Updated: May 18, 2020 23:26 IST   \n",
              "\n",
              "                                      Headline_Original  Sentiment  \\\n",
              "5047  World is NOWHERE near reaching herd immunity a...          0   \n",
              "763   West Bengal: Amid lack of transport options, C...          0   \n",
              "5043  Alarming photos of blood-stained bed sheets an...          0   \n",
              "7412  Baseball: Ino, Kamizato lead BayStars in win o...          1   \n",
              "661   Ashish Chowdhry on Covid-19 crisis: Our family...          0   \n",
              "\n",
              "                                         Headline_Clean  \n",
              "5047  world nowhere near reach herd immunity coronav...  \n",
              "763   west bengal amid lack transport options cm mam...  \n",
              "5043  alarming photos bed sheet use face mask inside...  \n",
              "7412    baseball ino kamizato lead baystars win dragons  \n",
              "661   ashish chowdhry crisis family victims terror a...  "
            ]
          },
          "execution_count": 102,
          "metadata": {},
          "output_type": "execute_result"
        }
      ],
      "source": [
        "# Encoding Sentiment column\n",
        "from sklearn.preprocessing import LabelEncoder\n",
        "le = LabelEncoder()\n",
        "dataset[\"Sentiment\"] = le.fit_transform(dataset[\"Sentiment\"])\n",
        "dataset.head()"
      ]
    },
    {
      "cell_type": "code",
      "execution_count": null,
      "metadata": {
        "id": "v0H6WhQE54KD"
      },
      "outputs": [],
      "source": [
        "headlines = np.array(dataset['Headline_Clean'])\n",
        "sentiments = np.array(dataset['Sentiment'])\n",
        "\n",
        "# build train and test datasets\n",
        "train_headlines = headlines[:9118]\n",
        "train_headlines = sentiments[:9118]\n",
        "test_headlines = headlines[9118:]\n",
        "test_headlines = sentiments[9118:]\n",
        "\n",
        "# normalize datasets\n",
        "norm_train_headlines = tn.normalize_corpus(train_headlines)\n",
        "norm_test_headlines = tn.normalize_corpus(test_headlines)"
      ]
    },
    {
      "cell_type": "code",
      "execution_count": null,
      "metadata": {
        "id": "OL5GEhTI54FK"
      },
      "outputs": [],
      "source": [
        "from sklearn.feature_extraction.text import CountVectorizer, TfidfVectorizer\n",
        "\n",
        "# build BOW features on train reviews\n",
        "cv = CountVectorizer(binary=False, min_df=0.0, max_df=1.0, ngram_range=(1,2))\n",
        "cv_train_features = cv.fit_transform(norm_train_headlines)\n",
        "\n",
        "# build TFIDF features on train reviews\n",
        "tv = TfidfVectorizer(use_idf=True, min_df=0.0, max_df=1.0, ngram_range=(1,2),sublinear_tf=True)\n",
        "tv_train_features = tv.fit_transform(norm_train_headlines)"
      ]
    },
    {
      "cell_type": "code",
      "execution_count": null,
      "metadata": {
        "id": "rvSgEHaZ54C2"
      },
      "outputs": [],
      "source": [
        "# transform test reviews into features \n",
        "cv_test_features = cv.transform(norm_test_headlines)\n",
        "tv_test_features = tv.transform(norm_test_headlines)"
      ]
    },
    {
      "cell_type": "code",
      "execution_count": null,
      "metadata": {
        "colab": {
          "base_uri": "https://localhost:8080/"
        },
        "id": "eAVR2ncr54AY",
        "outputId": "586d3e77-6897-419d-e64a-d754384ce320"
      },
      "outputs": [
        {
          "name": "stdout",
          "output_type": "stream",
          "text": [
            "BOW model:> Train features shape: (9118, 81247)  Test features shape: (1609, 81247)\n",
            "TFIDF model:> Train features shape: (9118, 81247)  Test features shape: (1609, 81247)\n"
          ]
        }
      ],
      "source": [
        "\n",
        "print('BOW model:> Train features shape:', cv_train_features.shape, ' Test features shape:', cv_test_features.shape)\n",
        "print('TFIDF model:> Train features shape:', tv_train_features.shape, ' Test features shape:', tv_test_features.shape)"
      ]
    },
    {
      "cell_type": "code",
      "execution_count": null,
      "metadata": {
        "id": "yrIg-dcs539V"
      },
      "outputs": [],
      "source": [
        "from sklearn.linear_model import SGDClassifier, LogisticRegression\n",
        "\n",
        "lr = LogisticRegression(penalty='l2', max_iter=100, C=1)\n",
        "svm = SGDClassifier(loss='hinge', max_iter=100)"
      ]
    },
    {
      "cell_type": "code",
      "execution_count": null,
      "metadata": {
        "id": "mXjkJ8KgV7Nl"
      },
      "outputs": [],
      "source": []
    },
    {
      "cell_type": "markdown",
      "metadata": {
        "id": "NCz9PkslV9mi"
      },
      "source": [
        "# LR-BOW MODEL Features"
      ]
    },
    {
      "cell_type": "code",
      "execution_count": null,
      "metadata": {
        "id": "NL2puOSp535X"
      },
      "outputs": [],
      "source": [
        "# Logistic Regression model on BOW features\n",
        "lr.fit(cv_train_features,train_sentiments)\n",
        "# predict using model\n",
        "predictions = lr.predict(cv_test_features) "
      ]
    },
    {
      "cell_type": "code",
      "execution_count": null,
      "metadata": {
        "colab": {
          "base_uri": "https://localhost:8080/"
        },
        "id": "3Pu5XrLz53xI",
        "outputId": "016a66f9-4c42-4ee9-a02b-dd996edd2d80"
      },
      "outputs": [
        {
          "name": "stdout",
          "output_type": "stream",
          "text": [
            "Accuracy score: 92.0 %\n"
          ]
        }
      ],
      "source": [
        "\n",
        "score = lr.score(cv_test_features,test_sentiments)\n",
        "print(\"Accuracy score:\",np.round(score,2)*100,\"%\")"
      ]
    },
    {
      "cell_type": "code",
      "execution_count": null,
      "metadata": {
        "colab": {
          "base_uri": "https://localhost:8080/",
          "height": 346
        },
        "id": "VyDlukA4DBcg",
        "outputId": "89281f4e-1d1b-4d12-e80f-8573cb4419b7"
      },
      "outputs": [
        {
          "name": "stdout",
          "output_type": "stream",
          "text": [
            "Confusion matrix:\n"
          ]
        },
        {
          "data": {
            "text/plain": [
              "Text(0.5, 1.0, 'Accuracy Score: 92.0%')"
            ]
          },
          "execution_count": 110,
          "metadata": {},
          "output_type": "execute_result"
        },
        {
          "data": {
            "image/png": "[encoded data removed]",
            "text/plain": [
              "<Figure size 360x360 with 2 Axes>"
            ]
          },
          "metadata": {},
          "output_type": "display_data"
        }
      ],
      "source": [
        "import matplotlib.pyplot as plt\n",
        "import seaborn as sns\n",
        "from sklearn import metrics\n",
        "cm = metrics.confusion_matrix(test_sentiments, predictions)\n",
        "plt.figure(figsize=(5,5))\n",
        "sns.heatmap(cm, annot=True, fmt=\".3f\", linewidths=.5, square = True)\n",
        "plt.ylabel('Actual label')\n",
        "plt.xlabel('Predicted label')\n",
        "print(\"Confusion matrix:\")\n",
        "all_sample_title = 'Accuracy Score: {0}%'.format(np.round(score,2)*100)\n",
        "plt.title(all_sample_title, size = 12)"
      ]
    },
    {
      "cell_type": "code",
      "execution_count": null,
      "metadata": {
        "colab": {
          "base_uri": "https://localhost:8080/"
        },
        "id": "JqhMYvJBDEC0",
        "outputId": "ec2508a8-bc45-4a40-f7ca-a4cf9b261afb"
      },
      "outputs": [
        {
          "name": "stdout",
          "output_type": "stream",
          "text": [
            "Classification report\n",
            "\n",
            "              precision    recall  f1-score   support\n",
            "\n",
            "           0       0.93      0.90      0.91       767\n",
            "           1       0.91      0.94      0.92       842\n",
            "\n",
            "    accuracy                           0.92      1609\n",
            "   macro avg       0.92      0.92      0.92      1609\n",
            "weighted avg       0.92      0.92      0.92      1609\n",
            "\n"
          ]
        }
      ],
      "source": [
        "from sklearn.metrics import classification_report\n",
        "print(\"Classification report\\n\")\n",
        "print(classification_report(test_sentiments, predictions))"
      ]
    },
    {
      "cell_type": "code",
      "execution_count": null,
      "metadata": {
        "colab": {
          "base_uri": "https://localhost:8080/"
        },
        "id": "W9QcrGALDGrG",
        "outputId": "60c934c2-d12c-4531-e315-85ca2be7f7e9"
      },
      "outputs": [
        {
          "name": "stdout",
          "output_type": "stream",
          "text": [
            "Accuracy:  91.86% \n",
            "Precision: 91.88% \n",
            "Recall:    91.86% \n",
            "F1 Score:  91.85% \n"
          ]
        }
      ],
      "source": [
        "from sklearn import metrics\n",
        "print('Accuracy:  {:2.2%} '.format(metrics.accuracy_score(test_sentiments, predictions)))\n",
        "print('Precision: {:2.2%} '.format(metrics.precision_score(test_sentiments, predictions, average='weighted')))\n",
        "print('Recall:    {:2.2%} '.format(metrics.recall_score(test_sentiments, predictions, average='weighted')))\n",
        "print('F1 Score:  {:2.2%} '.format(metrics.f1_score(test_sentiments, predictions, average='weighted')))  "
      ]
    },
    {
      "cell_type": "code",
      "execution_count": null,
      "metadata": {
        "id": "CLNTc7jnDPkB"
      },
      "outputs": [],
      "source": []
    },
    {
      "cell_type": "markdown",
      "metadata": {
        "id": "9iHUwRHnVyd8"
      },
      "source": [
        "# LR-TFIDF Features"
      ]
    },
    {
      "cell_type": "code",
      "execution_count": null,
      "metadata": {
        "id": "FB5P7ZF_DJP9"
      },
      "outputs": [],
      "source": [
        "# Logistic Regression model on BOW features\n",
        "lr.fit(tv_train_features,train_sentiments)\n",
        "# predict using model\n",
        "predictions = lr.predict(tv_test_features) "
      ]
    },
    {
      "cell_type": "code",
      "execution_count": null,
      "metadata": {
        "colab": {
          "base_uri": "https://localhost:8080/"
        },
        "id": "rIFCTNsGDL5Y",
        "outputId": "7b07a865-e581-4f13-8817-b4c72afddce9"
      },
      "outputs": [
        {
          "name": "stdout",
          "output_type": "stream",
          "text": [
            "Accuracy score: 91.0 %\n"
          ]
        }
      ],
      "source": [
        "score = lr.score(tv_test_features,test_sentiments)\n",
        "print(\"Accuracy score:\",np.round(score,2)*100,\"%\")"
      ]
    },
    {
      "cell_type": "code",
      "execution_count": null,
      "metadata": {
        "colab": {
          "base_uri": "https://localhost:8080/",
          "height": 346
        },
        "id": "QNdYLhsaDLxK",
        "outputId": "2177fcec-f8d7-4b2d-914f-dc43be779d01"
      },
      "outputs": [
        {
          "name": "stdout",
          "output_type": "stream",
          "text": [
            "Confusion matrix:\n"
          ]
        },
        {
          "data": {
            "text/plain": [
              "Text(0.5, 1.0, 'Accuracy Score: 91.0%')"
            ]
          },
          "execution_count": 116,
          "metadata": {},
          "output_type": "execute_result"
        },
        {
          "data": {
            "image/png": "[encoded data removed]",
            "text/plain": [
              "<Figure size 360x360 with 2 Axes>"
            ]
          },
          "metadata": {},
          "output_type": "display_data"
        }
      ],
      "source": [
        "import matplotlib.pyplot as plt\n",
        "import seaborn as sns\n",
        "from sklearn import metrics\n",
        "cm = metrics.confusion_matrix(test_sentiments, predictions)\n",
        "plt.figure(figsize=(5,5))\n",
        "sns.heatmap(cm, annot=True, fmt=\".3f\", linewidths=.5, square = True)\n",
        "plt.ylabel('Actual label')\n",
        "plt.xlabel('Predicted label')\n",
        "print(\"Confusion matrix:\")\n",
        "all_sample_title = 'Accuracy Score: {0}%'.format(np.round(score,2)*100)\n",
        "plt.title(all_sample_title, size = 12)"
      ]
    },
    {
      "cell_type": "code",
      "execution_count": null,
      "metadata": {
        "colab": {
          "base_uri": "https://localhost:8080/"
        },
        "id": "o3Vu9LsWPzJ8",
        "outputId": "d16ef10c-ef24-45c3-8016-1a9da4fac937"
      },
      "outputs": [
        {
          "name": "stdout",
          "output_type": "stream",
          "text": [
            "Classification report\n",
            "\n",
            "              precision    recall  f1-score   support\n",
            "\n",
            "           0       0.90      0.91      0.90       767\n",
            "           1       0.91      0.91      0.91       842\n",
            "\n",
            "    accuracy                           0.91      1609\n",
            "   macro avg       0.91      0.91      0.91      1609\n",
            "weighted avg       0.91      0.91      0.91      1609\n",
            "\n"
          ]
        }
      ],
      "source": [
        "from sklearn.metrics import classification_report\n",
        "print(\"Classification report\\n\")\n",
        "print(classification_report(test_sentiments, predictions))"
      ]
    },
    {
      "cell_type": "code",
      "execution_count": null,
      "metadata": {
        "colab": {
          "base_uri": "https://localhost:8080/"
        },
        "id": "evjfOkNnP_Z2",
        "outputId": "55a44e79-0410-4399-98ea-aed473307895"
      },
      "outputs": [
        {
          "name": "stdout",
          "output_type": "stream",
          "text": [
            "Accuracy:  90.93% \n",
            "Precision: 90.93% \n",
            "Recall:    90.93% \n",
            "F1 Score:  90.93% \n"
          ]
        }
      ],
      "source": [
        "from sklearn import metrics\n",
        "print('Accuracy:  {:2.2%} '.format(metrics.accuracy_score(test_sentiments, predictions)))\n",
        "print('Precision: {:2.2%} '.format(metrics.precision_score(test_sentiments, predictions, average='weighted')))\n",
        "print('Recall:    {:2.2%} '.format(metrics.recall_score(test_sentiments, predictions, average='weighted')))\n",
        "print('F1 Score:  {:2.2%} '.format(metrics.f1_score(test_sentiments, predictions, average='weighted')))                       "
      ]
    },
    {
      "cell_type": "code",
      "execution_count": null,
      "metadata": {
        "id": "1noOJDKVDLuC"
      },
      "outputs": [],
      "source": []
    },
    {
      "cell_type": "markdown",
      "metadata": {
        "id": "XnGYPZtiVrTd"
      },
      "source": [
        "# SVM -BOW Features"
      ]
    },
    {
      "cell_type": "code",
      "execution_count": null,
      "metadata": {
        "id": "dSSipsO-DLqR"
      },
      "outputs": [],
      "source": [
        "# SVM model on BOW features\n",
        "svm.fit(cv_train_features,train_sentiments)\n",
        "# predict using model\n",
        "predictions = svm.predict(cv_test_features)"
      ]
    },
    {
      "cell_type": "code",
      "execution_count": null,
      "metadata": {
        "colab": {
          "base_uri": "https://localhost:8080/"
        },
        "id": "TNegjyVIDLmH",
        "outputId": "9e6e625c-3416-4fe9-ca0c-5315f5fca45f"
      },
      "outputs": [
        {
          "name": "stdout",
          "output_type": "stream",
          "text": [
            "Accuracy score: 92.0 %\n"
          ]
        }
      ],
      "source": [
        "score = svm.score(cv_test_features,test_sentiments)\n",
        "print(\"Accuracy score:\",np.round(score,2)*100,\"%\")"
      ]
    },
    {
      "cell_type": "code",
      "execution_count": null,
      "metadata": {
        "colab": {
          "base_uri": "https://localhost:8080/",
          "height": 346
        },
        "id": "EORbeILLDdmz",
        "outputId": "1005f84f-4412-4a3b-e81e-a40a9a1a15bf"
      },
      "outputs": [
        {
          "name": "stdout",
          "output_type": "stream",
          "text": [
            "Confusion matrix:\n"
          ]
        },
        {
          "data": {
            "text/plain": [
              "Text(0.5, 1.0, 'Accuracy Score: 92.0%')"
            ]
          },
          "execution_count": 122,
          "metadata": {},
          "output_type": "execute_result"
        },
        {
          "data": {
            "image/png": "[encoded data removed]",
            "text/plain": [
              "<Figure size 360x360 with 2 Axes>"
            ]
          },
          "metadata": {},
          "output_type": "display_data"
        }
      ],
      "source": [
        "cm = metrics.confusion_matrix(test_sentiments, predictions)\n",
        "plt.figure(figsize=(5,5))\n",
        "sns.heatmap(cm, annot=True, fmt=\".3f\", linewidths=.5, square = True)\n",
        "plt.ylabel('Actual label')\n",
        "plt.xlabel('Predicted label')\n",
        "print(\"Confusion matrix:\")\n",
        "all_sample_title = 'Accuracy Score: {0}%'.format(np.round(score,2)*100)\n",
        "plt.title(all_sample_title, size = 12)"
      ]
    },
    {
      "cell_type": "code",
      "execution_count": null,
      "metadata": {
        "colab": {
          "base_uri": "https://localhost:8080/"
        },
        "id": "--KHrWlpQGEo",
        "outputId": "88f2e147-c425-40be-eb82-b5063e25bb25"
      },
      "outputs": [
        {
          "name": "stdout",
          "output_type": "stream",
          "text": [
            "Classification report\n",
            "\n",
            "              precision    recall  f1-score   support\n",
            "\n",
            "           0       0.93      0.91      0.92       767\n",
            "           1       0.92      0.93      0.93       842\n",
            "\n",
            "    accuracy                           0.92      1609\n",
            "   macro avg       0.92      0.92      0.92      1609\n",
            "weighted avg       0.92      0.92      0.92      1609\n",
            "\n"
          ]
        }
      ],
      "source": [
        "from sklearn.metrics import classification_report\n",
        "print(\"Classification report\\n\")\n",
        "print(classification_report(test_sentiments, predictions))"
      ]
    },
    {
      "cell_type": "code",
      "execution_count": null,
      "metadata": {
        "colab": {
          "base_uri": "https://localhost:8080/"
        },
        "id": "OZLTdbCGQIbB",
        "outputId": "cd4cd261-781f-4634-8be6-a0cb60b68ee3"
      },
      "outputs": [
        {
          "name": "stdout",
          "output_type": "stream",
          "text": [
            "Accuracy:  92.17% \n",
            "Precision: 92.18% \n",
            "Recall:    92.17% \n",
            "F1 Score:  92.16% \n"
          ]
        }
      ],
      "source": [
        "from sklearn import metrics\n",
        "print('Accuracy:  {:2.2%} '.format(metrics.accuracy_score(test_sentiments, predictions)))\n",
        "print('Precision: {:2.2%} '.format(metrics.precision_score(test_sentiments, predictions, average='weighted')))\n",
        "print('Recall:    {:2.2%} '.format(metrics.recall_score(test_sentiments, predictions, average='weighted')))\n",
        "print('F1 Score:  {:2.2%} '.format(metrics.f1_score(test_sentiments, predictions, average='weighted')))      "
      ]
    },
    {
      "cell_type": "code",
      "execution_count": null,
      "metadata": {
        "id": "GEiyBxBkDiZh"
      },
      "outputs": [],
      "source": []
    },
    {
      "cell_type": "markdown",
      "metadata": {
        "id": "J2_HmxAGVknB"
      },
      "source": [
        "# SVM - TFIDF Features"
      ]
    },
    {
      "cell_type": "code",
      "execution_count": null,
      "metadata": {
        "id": "aMlPGK1RDf0-"
      },
      "outputs": [],
      "source": [
        "# SVM model on TF-IDF features\n",
        "svm.fit(tv_train_features,train_sentiments)\n",
        "# predict using model\n",
        "predictions = svm.predict(tv_test_features) "
      ]
    },
    {
      "cell_type": "code",
      "execution_count": null,
      "metadata": {
        "colab": {
          "base_uri": "https://localhost:8080/"
        },
        "id": "RV47VYUqDkTq",
        "outputId": "0f6b176c-c3c4-4da2-c8e8-87ab776a99f4"
      },
      "outputs": [
        {
          "name": "stdout",
          "output_type": "stream",
          "text": [
            "Accuracy score: 91.0 %\n"
          ]
        }
      ],
      "source": [
        "score = svm.score(cv_test_features,test_sentiments)\n",
        "print(\"Accuracy score:\",np.round(score,2)*100,\"%\")"
      ]
    },
    {
      "cell_type": "code",
      "execution_count": null,
      "metadata": {
        "colab": {
          "base_uri": "https://localhost:8080/",
          "height": 346
        },
        "id": "sVCcTTGBDmVx",
        "outputId": "a39e7052-c076-49dc-cdd3-92507e59d8f5"
      },
      "outputs": [
        {
          "name": "stdout",
          "output_type": "stream",
          "text": [
            "Confusion matrix:\n"
          ]
        },
        {
          "data": {
            "text/plain": [
              "Text(0.5, 1.0, 'Accuracy Score: 91.0%')"
            ]
          },
          "execution_count": 128,
          "metadata": {},
          "output_type": "execute_result"
        },
        {
          "data": {
            "image/png": "[encoded data removed]",
            "text/plain": [
              "<Figure size 360x360 with 2 Axes>"
            ]
          },
          "metadata": {},
          "output_type": "display_data"
        }
      ],
      "source": [
        "cm = metrics.confusion_matrix(test_sentiments, predictions)\n",
        "plt.figure(figsize=(5,5))\n",
        "sns.heatmap(cm, annot=True, fmt=\".3f\", linewidths=.5, square = True)\n",
        "plt.ylabel('Actual label')\n",
        "plt.xlabel('Predicted label')\n",
        "print(\"Confusion matrix:\")\n",
        "all_sample_title = 'Accuracy Score: {0}%'.format(np.round(score,2)*100)\n",
        "plt.title(all_sample_title, size = 12)"
      ]
    },
    {
      "cell_type": "code",
      "execution_count": null,
      "metadata": {
        "colab": {
          "base_uri": "https://localhost:8080/"
        },
        "id": "bP59TIDMQaZQ",
        "outputId": "9ab002d1-7233-4d8d-c2de-305207f88647"
      },
      "outputs": [
        {
          "name": "stdout",
          "output_type": "stream",
          "text": [
            "Classification report\n",
            "\n",
            "              precision    recall  f1-score   support\n",
            "\n",
            "           0       0.92      0.91      0.92       767\n",
            "           1       0.92      0.93      0.92       842\n",
            "\n",
            "    accuracy                           0.92      1609\n",
            "   macro avg       0.92      0.92      0.92      1609\n",
            "weighted avg       0.92      0.92      0.92      1609\n",
            "\n"
          ]
        }
      ],
      "source": [
        "from sklearn.metrics import classification_report\n",
        "print(\"Classification report\\n\")\n",
        "print(classification_report(test_sentiments, predictions))"
      ]
    },
    {
      "cell_type": "code",
      "execution_count": null,
      "metadata": {
        "colab": {
          "base_uri": "https://localhost:8080/"
        },
        "id": "HwXX8qdCQaST",
        "outputId": "1397fbb6-d41f-4535-ecc1-daf1c62f495f"
      },
      "outputs": [
        {
          "name": "stdout",
          "output_type": "stream",
          "text": [
            "Accuracy:  91.98% \n",
            "Precision: 91.98% \n",
            "Recall:    91.98% \n",
            "F1 Score:  91.98% \n"
          ]
        }
      ],
      "source": [
        "from sklearn import metrics\n",
        "print('Accuracy:  {:2.2%} '.format(metrics.accuracy_score(test_sentiments, predictions)))\n",
        "print('Precision: {:2.2%} '.format(metrics.precision_score(test_sentiments, predictions, average='weighted')))\n",
        "print('Recall:    {:2.2%} '.format(metrics.recall_score(test_sentiments, predictions, average='weighted')))\n",
        "print('F1 Score:  {:2.2%} '.format(metrics.f1_score(test_sentiments, predictions, average='weighted')))"
      ]
    },
    {
      "cell_type": "code",
      "execution_count": null,
      "metadata": {
        "id": "WYUa0N2Me1RS"
      },
      "outputs": [],
      "source": []
    },
    {
      "cell_type": "code",
      "execution_count": null,
      "metadata": {
        "id": "o3uhw6Ree19p"
      },
      "outputs": [],
      "source": []
    }
  ]
}